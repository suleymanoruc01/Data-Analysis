{
  "nbformat": 4,
  "nbformat_minor": 0,
  "metadata": {
    "colab": {
      "provenance": [],
      "authorship_tag": "ABX9TyNs6jNy1SaAAR7O1MRyJFTV",
      "include_colab_link": true
    },
    "kernelspec": {
      "name": "ir",
      "display_name": "R"
    },
    "language_info": {
      "name": "R"
    }
  },
  "cells": [
    {
      "cell_type": "markdown",
      "metadata": {
        "id": "view-in-github",
        "colab_type": "text"
      },
      "source": [
        "<a href=\"https://colab.research.google.com/github/suleymanoruc01/Data-Analysis/blob/main/Probability%20Distributions.ipynb\" target=\"_parent\"><img src=\"https://colab.research.google.com/assets/colab-badge.svg\" alt=\"Open In Colab\"/></a>"
      ]
    },
    {
      "cell_type": "code",
      "execution_count": null,
      "metadata": {
        "id": "D5Z-MxdOYLsr"
      },
      "outputs": [],
      "source": [
        "install.packages(\"Rlab\")\n",
        "library(Rlab)"
      ]
    },
    {
      "cell_type": "markdown",
      "source": [
        "Bernoulli Dağılımı"
      ],
      "metadata": {
        "id": "Q-f-SaW-aw0c"
      }
    },
    {
      "cell_type": "code",
      "source": [
        "?dbern\n",
        "\n",
        "#Başarılı olma olasılığı 0.6\n",
        "dbern(x = 0 , prob= 0.6)\n",
        "\n",
        "#Başarılı olma olasılığı 0.7\n",
        "dbern(x = 1 , prob= 0.7)\n",
        "# x 0 ve 1 değerleri alabilir 0 başarısız olma 1 başarılı olma durumunu belirtir. Prob değeri ise başarılı olma olasılığıdır."
      ],
      "metadata": {
        "id": "eMmxAZqFanAm"
      },
      "execution_count": null,
      "outputs": []
    },
    {
      "cell_type": "code",
      "source": [
        "?pbern\n",
        "\n",
        "pbern(q = 1 , prob = 0.7 , lower.tail = TRUE)\n",
        "\n",
        "# q değeri istenilen olasılık değerlerini , prob değeri başarılı olma olasılık değeri , lower.tail değeri ise TRUE değerinde iken q değerinden daha az olma FALSE değerinde iken q değerinden daha fazla olma olasılıklarına bakar.\n"
      ],
      "metadata": {
        "id": "sLUIHAWqbkY7"
      },
      "execution_count": null,
      "outputs": []
    },
    {
      "cell_type": "code",
      "source": [
        "?rbern\n",
        "\n",
        "r <- rbern(n = 50 , prob = 0.5)\n",
        "r\n",
        "table(r)\n",
        "\n",
        "# n üretilecek rastgele değer sayısı , prob ise üretilecek değerler içinde ki 1 lerin oranı"
      ],
      "metadata": {
        "colab": {
          "base_uri": "https://localhost:8080/",
          "height": 86
        },
        "id": "WDvFRhEBc7wI",
        "outputId": "be05cb70-b733-412d-ff9c-6ca9cdf4ad7a"
      },
      "execution_count": null,
      "outputs": [
        {
          "output_type": "display_data",
          "data": {
            "text/html": [
              "<style>\n",
              ".list-inline {list-style: none; margin:0; padding: 0}\n",
              ".list-inline>li {display: inline-block}\n",
              ".list-inline>li:not(:last-child)::after {content: \"\\00b7\"; padding: 0 .5ex}\n",
              "</style>\n",
              "<ol class=list-inline><li>0</li><li>1</li><li>1</li><li>0</li><li>0</li><li>1</li><li>1</li><li>0</li><li>0</li><li>1</li><li>0</li><li>1</li><li>1</li><li>1</li><li>0</li><li>1</li><li>1</li><li>0</li><li>1</li><li>0</li><li>0</li><li>0</li><li>1</li><li>1</li><li>0</li><li>0</li><li>1</li><li>0</li><li>0</li><li>0</li><li>1</li><li>0</li><li>0</li><li>0</li><li>1</li><li>0</li><li>0</li><li>1</li><li>1</li><li>0</li><li>1</li><li>1</li><li>0</li><li>0</li><li>1</li><li>0</li><li>0</li><li>1</li><li>0</li><li>1</li></ol>\n"
            ],
            "text/markdown": "1. 0\n2. 1\n3. 1\n4. 0\n5. 0\n6. 1\n7. 1\n8. 0\n9. 0\n10. 1\n11. 0\n12. 1\n13. 1\n14. 1\n15. 0\n16. 1\n17. 1\n18. 0\n19. 1\n20. 0\n21. 0\n22. 0\n23. 1\n24. 1\n25. 0\n26. 0\n27. 1\n28. 0\n29. 0\n30. 0\n31. 1\n32. 0\n33. 0\n34. 0\n35. 1\n36. 0\n37. 0\n38. 1\n39. 1\n40. 0\n41. 1\n42. 1\n43. 0\n44. 0\n45. 1\n46. 0\n47. 0\n48. 1\n49. 0\n50. 1\n\n\n",
            "text/latex": "\\begin{enumerate*}\n\\item 0\n\\item 1\n\\item 1\n\\item 0\n\\item 0\n\\item 1\n\\item 1\n\\item 0\n\\item 0\n\\item 1\n\\item 0\n\\item 1\n\\item 1\n\\item 1\n\\item 0\n\\item 1\n\\item 1\n\\item 0\n\\item 1\n\\item 0\n\\item 0\n\\item 0\n\\item 1\n\\item 1\n\\item 0\n\\item 0\n\\item 1\n\\item 0\n\\item 0\n\\item 0\n\\item 1\n\\item 0\n\\item 0\n\\item 0\n\\item 1\n\\item 0\n\\item 0\n\\item 1\n\\item 1\n\\item 0\n\\item 1\n\\item 1\n\\item 0\n\\item 0\n\\item 1\n\\item 0\n\\item 0\n\\item 1\n\\item 0\n\\item 1\n\\end{enumerate*}\n",
            "text/plain": [
              " [1] 0 1 1 0 0 1 1 0 0 1 0 1 1 1 0 1 1 0 1 0 0 0 1 1 0 0 1 0 0 0 1 0 0 0 1 0 0 1\n",
              "[39] 1 0 1 1 0 0 1 0 0 1 0 1"
            ]
          },
          "metadata": {}
        },
        {
          "output_type": "display_data",
          "data": {
            "text/plain": [
              "r\n",
              " 0  1 \n",
              "27 23 "
            ]
          },
          "metadata": {}
        }
      ]
    },
    {
      "cell_type": "markdown",
      "source": [
        "Binom Dağılımı"
      ],
      "metadata": {
        "id": "qwBYR3_8drB6"
      }
    },
    {
      "cell_type": "code",
      "source": [
        "?dbinom\n",
        "\n",
        "# Bir olayda başarılı olma olasılığı 0.7 başarısızlık 1 - 0.7 = 0.3\n",
        "\n",
        "dbinom(x = 5 , size = 10 , prob = 0.7)\n",
        "\n",
        "# 10 denemede 5 defa 0.7 olasılıkla başarılı olma olasılığı 0.1029193452 olarak bulundu.\n",
        "\n",
        "plot( x = 1:30 , y = dbinom(x = 1:30 , size = 30 , prob = 0.7) , bty = \"L\" , pch = 19) \n",
        "\n",
        "lines(dbinom(x = 1:30 , size = 30 , prob = 0.5))"
      ],
      "metadata": {
        "id": "zERcwjLodvQj"
      },
      "execution_count": null,
      "outputs": []
    },
    {
      "cell_type": "code",
      "source": [
        "?pbinom\n",
        "pbinom( q = 5 , size= 30 , prob = 0.7 , lower.tail = TRUE)\n",
        "\n",
        "# Bir e-ticaret sitesine gelen ortalama 4 müşteriden 1'i alış\n",
        "# veriş yapıyor. Bu e-ticaret sitesine bir gün için 30 müşteri girmesi\n",
        "# bekleniyor en az 10 alış veriş yapılma olasılığı nedir?\n",
        "\n",
        "pbinom(q = 9 , size = 30 , prob = 1/4 , lower.tail = FALSE)"
      ],
      "metadata": {
        "id": "isU-zvn8pvkn"
      },
      "execution_count": null,
      "outputs": []
    },
    {
      "cell_type": "code",
      "source": [
        "?qbinom\n",
        "# Olasılık değerine göre kaç kare başarılı olacağımızı elde ederiz\n",
        "\n",
        "qbinom(p = 0.7 , size = 30 , prob = 1/4 , lower.tail = FALSE)"
      ],
      "metadata": {
        "id": "h0xzItonp0IH"
      },
      "execution_count": null,
      "outputs": []
    },
    {
      "cell_type": "code",
      "source": [
        "?rbinom\n",
        "# Rastgele Binam Dağılan Veriler\n",
        "\n",
        "d <- rbinom(n = 50, size = 30 , prob = 1/4)\n",
        "hist(d)"
      ],
      "metadata": {
        "id": "D2cpMf-yp34Z"
      },
      "execution_count": null,
      "outputs": []
    },
    {
      "cell_type": "markdown",
      "source": [
        "Poisson Dağılımı"
      ],
      "metadata": {
        "id": "C-zB_G-GmYal"
      }
    },
    {
      "cell_type": "code",
      "source": [
        "?dpois\n",
        "# 1 saatte 15 tane araba geçiyor\n",
        "\n",
        "# 1 saatte 20 tane araba geçme olasılığı\n",
        "dpois(x=20 , lambda = 15)\n",
        "\n",
        "plot(1:30 , dpois(x = 1:30 , lambda = 15) , bty =\"L\" , pch = 20 , col=\"red\")\n",
        "\n",
        "lines(dpois(x = 1:30 , lambda = 20), lwd = 2 , col = \"blue\")\n",
        "\n"
      ],
      "metadata": {
        "id": "tlr49xt6mdw3"
      },
      "execution_count": null,
      "outputs": []
    },
    {
      "cell_type": "code",
      "source": [
        "?ppois\n",
        "\n",
        "#1 dakikada araba geçme olasılığı = 1/3\n",
        "\n",
        "ppois( q = 2 , lambda = 1/3 , lower.tail = FALSE)\n",
        "ppois( q = 2 , lambda = 1/3 , lower.tail = TRUE)\n",
        "\n",
        "#Örnek .\n",
        "#E-Ticaret sitesi üzerine bir Makine Öğrenmesi algoritması\n",
        "#eklendi ve algoritma ile müşterilerin beğenebileceği ürünler\n",
        "#tahmin edilerek satış yapma olasılığı tahmin edilrek isteniyor.\n",
        "#Makine öğrenmesi algoritması eklendikten sonra elde edilen\n",
        "#verilere göre günün öğlen saatlerinin 1 saatlik zaman diliminde\n",
        "#makine öğrenmesi modeli ile ürün tavsiyelerini gören rüşterilerden\n",
        "#20 tanesi satın alma işlemi yapıyor. Buna göre herhangi başka bir\n",
        "#öğlen saatlerinde 1 saatlik zaman diliminde 30'dan fazla satış yapılma olasılığı\n",
        "#nedir.\n",
        "\n",
        "ppois(q = 30 , lambda = 20 , lower.tail = FALSE)\n"
      ],
      "metadata": {
        "colab": {
          "base_uri": "https://localhost:8080/",
          "height": 86
        },
        "id": "uqshYWqTpsnB",
        "outputId": "cf5284b8-0186-4f7f-9988-6904935a0376"
      },
      "execution_count": null,
      "outputs": [
        {
          "output_type": "display_data",
          "data": {
            "text/html": [
              "0.00481762420307048"
            ],
            "text/markdown": "0.00481762420307048",
            "text/latex": "0.00481762420307048",
            "text/plain": [
              "[1] 0.004817624"
            ]
          },
          "metadata": {}
        },
        {
          "output_type": "display_data",
          "data": {
            "text/html": [
              "0.995182375796929"
            ],
            "text/markdown": "0.995182375796929",
            "text/latex": "0.995182375796929",
            "text/plain": [
              "[1] 0.9951824"
            ]
          },
          "metadata": {}
        },
        {
          "output_type": "display_data",
          "data": {
            "text/html": [
              "0.0134746812799223"
            ],
            "text/markdown": "0.0134746812799223",
            "text/latex": "0.0134746812799223",
            "text/plain": [
              "[1] 0.01347468"
            ]
          },
          "metadata": {}
        },
        {
          "output_type": "display_data",
          "data": {
            "text/html": [
              "0.999999956715774"
            ],
            "text/markdown": "0.999999956715774",
            "text/latex": "0.999999956715774",
            "text/plain": [
              "[1] 1"
            ]
          },
          "metadata": {}
        }
      ]
    },
    {
      "cell_type": "code",
      "source": [
        "?qpois\n",
        "\n",
        "# Olasılık değerine göre x değeri elde etmek\n",
        "\n",
        "qpois( p = 0.6 , lambda = 15 , lower.tail = TRUE)\n",
        "qpois( p = 0.1 , lambda = 15 , lower.tail = FALSE)"
      ],
      "metadata": {
        "colab": {
          "base_uri": "https://localhost:8080/",
          "height": 52
        },
        "id": "MtScwZPhrvab",
        "outputId": "2c39c506-a5ea-45b0-b3eb-3e03dcbf240c"
      },
      "execution_count": null,
      "outputs": [
        {
          "output_type": "display_data",
          "data": {
            "text/html": [
              "16"
            ],
            "text/markdown": "16",
            "text/latex": "16",
            "text/plain": [
              "[1] 16"
            ]
          },
          "metadata": {}
        },
        {
          "output_type": "display_data",
          "data": {
            "text/html": [
              "20"
            ],
            "text/markdown": "20",
            "text/latex": "20",
            "text/plain": [
              "[1] 20"
            ]
          },
          "metadata": {}
        }
      ]
    },
    {
      "cell_type": "code",
      "source": [
        "?rpois\n",
        "\n",
        "# Rastgele veri üretimi\n",
        "\n",
        "rpois(n = 50 , lambda = 15)\n"
      ],
      "metadata": {
        "colab": {
          "base_uri": "https://localhost:8080/",
          "height": 52
        },
        "id": "qA8pF-2ysTRz",
        "outputId": "bd4c6f46-11a0-4e85-d5da-1c9c039c633a"
      },
      "execution_count": null,
      "outputs": [
        {
          "output_type": "display_data",
          "data": {
            "text/html": [
              "<style>\n",
              ".list-inline {list-style: none; margin:0; padding: 0}\n",
              ".list-inline>li {display: inline-block}\n",
              ".list-inline>li:not(:last-child)::after {content: \"\\00b7\"; padding: 0 .5ex}\n",
              "</style>\n",
              "<ol class=list-inline><li>8</li><li>15</li><li>11</li><li>11</li><li>18</li><li>11</li><li>13</li><li>13</li><li>10</li><li>16</li><li>11</li><li>17</li><li>16</li><li>11</li><li>14</li><li>10</li><li>13</li><li>27</li><li>15</li><li>16</li><li>13</li><li>17</li><li>14</li><li>12</li><li>10</li><li>12</li><li>15</li><li>18</li><li>11</li><li>11</li><li>16</li><li>16</li><li>13</li><li>20</li><li>14</li><li>12</li><li>12</li><li>12</li><li>15</li><li>20</li><li>15</li><li>13</li><li>12</li><li>15</li><li>11</li><li>16</li><li>12</li><li>16</li><li>9</li><li>14</li></ol>\n"
            ],
            "text/markdown": "1. 8\n2. 15\n3. 11\n4. 11\n5. 18\n6. 11\n7. 13\n8. 13\n9. 10\n10. 16\n11. 11\n12. 17\n13. 16\n14. 11\n15. 14\n16. 10\n17. 13\n18. 27\n19. 15\n20. 16\n21. 13\n22. 17\n23. 14\n24. 12\n25. 10\n26. 12\n27. 15\n28. 18\n29. 11\n30. 11\n31. 16\n32. 16\n33. 13\n34. 20\n35. 14\n36. 12\n37. 12\n38. 12\n39. 15\n40. 20\n41. 15\n42. 13\n43. 12\n44. 15\n45. 11\n46. 16\n47. 12\n48. 16\n49. 9\n50. 14\n\n\n",
            "text/latex": "\\begin{enumerate*}\n\\item 8\n\\item 15\n\\item 11\n\\item 11\n\\item 18\n\\item 11\n\\item 13\n\\item 13\n\\item 10\n\\item 16\n\\item 11\n\\item 17\n\\item 16\n\\item 11\n\\item 14\n\\item 10\n\\item 13\n\\item 27\n\\item 15\n\\item 16\n\\item 13\n\\item 17\n\\item 14\n\\item 12\n\\item 10\n\\item 12\n\\item 15\n\\item 18\n\\item 11\n\\item 11\n\\item 16\n\\item 16\n\\item 13\n\\item 20\n\\item 14\n\\item 12\n\\item 12\n\\item 12\n\\item 15\n\\item 20\n\\item 15\n\\item 13\n\\item 12\n\\item 15\n\\item 11\n\\item 16\n\\item 12\n\\item 16\n\\item 9\n\\item 14\n\\end{enumerate*}\n",
            "text/plain": [
              " [1]  8 15 11 11 18 11 13 13 10 16 11 17 16 11 14 10 13 27 15 16 13 17 14 12 10\n",
              "[26] 12 15 18 11 11 16 16 13 20 14 12 12 12 15 20 15 13 12 15 11 16 12 16  9 14"
            ]
          },
          "metadata": {}
        },
        {
          "output_type": "display_data",
          "data": {
            "text/html": [
              "<style>\n",
              ".list-inline {list-style: none; margin:0; padding: 0}\n",
              ".list-inline>li {display: inline-block}\n",
              ".list-inline>li:not(:last-child)::after {content: \"\\00b7\"; padding: 0 .5ex}\n",
              "</style>\n",
              "<ol class=list-inline><li>22</li><li>21</li><li>12</li><li>16</li><li>19</li><li>20</li><li>25</li><li>18</li><li>13</li><li>22</li><li>20</li><li>26</li><li>19</li><li>22</li><li>18</li><li>27</li><li>24</li><li>20</li><li>14</li><li>29</li><li>17</li><li>14</li><li>19</li><li>12</li><li>14</li><li>24</li><li>17</li><li>23</li><li>20</li><li>23</li><li>22</li><li>20</li><li>13</li><li>31</li><li>13</li><li>20</li><li>24</li><li>24</li><li>34</li><li>13</li><li>21</li><li>22</li><li>14</li><li>22</li><li>19</li><li>16</li><li>17</li><li>20</li><li>17</li><li>21</li></ol>\n"
            ],
            "text/markdown": "1. 22\n2. 21\n3. 12\n4. 16\n5. 19\n6. 20\n7. 25\n8. 18\n9. 13\n10. 22\n11. 20\n12. 26\n13. 19\n14. 22\n15. 18\n16. 27\n17. 24\n18. 20\n19. 14\n20. 29\n21. 17\n22. 14\n23. 19\n24. 12\n25. 14\n26. 24\n27. 17\n28. 23\n29. 20\n30. 23\n31. 22\n32. 20\n33. 13\n34. 31\n35. 13\n36. 20\n37. 24\n38. 24\n39. 34\n40. 13\n41. 21\n42. 22\n43. 14\n44. 22\n45. 19\n46. 16\n47. 17\n48. 20\n49. 17\n50. 21\n\n\n",
            "text/latex": "\\begin{enumerate*}\n\\item 22\n\\item 21\n\\item 12\n\\item 16\n\\item 19\n\\item 20\n\\item 25\n\\item 18\n\\item 13\n\\item 22\n\\item 20\n\\item 26\n\\item 19\n\\item 22\n\\item 18\n\\item 27\n\\item 24\n\\item 20\n\\item 14\n\\item 29\n\\item 17\n\\item 14\n\\item 19\n\\item 12\n\\item 14\n\\item 24\n\\item 17\n\\item 23\n\\item 20\n\\item 23\n\\item 22\n\\item 20\n\\item 13\n\\item 31\n\\item 13\n\\item 20\n\\item 24\n\\item 24\n\\item 34\n\\item 13\n\\item 21\n\\item 22\n\\item 14\n\\item 22\n\\item 19\n\\item 16\n\\item 17\n\\item 20\n\\item 17\n\\item 21\n\\end{enumerate*}\n",
            "text/plain": [
              " [1] 22 21 12 16 19 20 25 18 13 22 20 26 19 22 18 27 24 20 14 29 17 14 19 12 14\n",
              "[26] 24 17 23 20 23 22 20 13 31 13 20 24 24 34 13 21 22 14 22 19 16 17 20 17 21"
            ]
          },
          "metadata": {}
        }
      ]
    },
    {
      "cell_type": "markdown",
      "source": [
        "Hipergeometrik Dağılım"
      ],
      "metadata": {
        "id": "C2aWoYp6tzbt"
      }
    },
    {
      "cell_type": "code",
      "source": [
        "?dhyper\n",
        "\n",
        "# 10 denemede 52 kart içinde 26 adet kırmızı bulunan desteden 4 tane kırmızı kart çekme olasılığı\n",
        "dhyper(x = 4 , m = 26 , n = 26 , k = 10)\n",
        "\n",
        "plot(1:26 , dhyper(x = 1:26 , m = 26 , n = 26 , k = 10) , bty = \"L\" , pch = 20 , col = \"red\")\n",
        "\n",
        "lines(dhyper(x = 1:26 , m = 40 , n = 12 , k = 10))"
      ],
      "metadata": {
        "colab": {
          "base_uri": "https://localhost:8080/",
          "height": 454
        },
        "id": "MdC3vveUt2fU",
        "outputId": "06ddcb02-008e-48fb-a9bc-1c38b76fe538"
      },
      "execution_count": null,
      "outputs": [
        {
          "output_type": "display_data",
          "data": {
            "text/html": [
              "0.21756847221818"
            ],
            "text/markdown": "0.21756847221818",
            "text/latex": "0.21756847221818",
            "text/plain": [
              "[1] 0.2175685"
            ]
          },
          "metadata": {}
        },
        {
          "output_type": "display_data",
          "data": {
            "text/plain": [
              "plot without title"
            ],
            "image/png": "[encoded data removed]"
          },
          "metadata": {
            "image/png": {
              "width": 420,
              "height": 420
            }
          }
        }
      ]
    },
    {
      "cell_type": "code",
      "source": [
        "?phyper\n",
        "\n",
        "phyper(q = 6 , m = 10 , n = 30 , k = 15 , lower.tail = TRUE)\n",
        "\n",
        "\n",
        "\n",
        "#Erkek kıyafeti üzerine Instagram sosyal medyasında bir reklam\n",
        "#verilmesi planlanmaktadır. Reklam sadece Şişli semtinde\n",
        "#oturan, cinsiyeti erkek ve 20 ile 25 yaş arasındaki kullanıcalara\n",
        "#gösterilecek şekilde ayarlamıştır. Bu kriterli sağlayan toplam 10000\n",
        "#kişinin instagramdo kayıtlı olduğu bilgisi verilmiştir. 10000 kişi içerisinden\n",
        "#5000 kişinin google arama verilerine göre yeni sezon kıyafetlerine\n",
        "#ihtiyacı olacağı beklenmektedir. Instagram anlaşımsına göre\n",
        "#reklam sadece 10000 kişi içerisinde 3000 kişiye yanlızca bir\n",
        "#kere gösterilecektir. Bu durumda bu reklamın kıyafet ihtiyacı\n",
        "#olan en az 1500 kişiye gösterilme olasılığı nedir?\n",
        "\n",
        "phyper(q = 1500 , m = 5000 , n = 5000 , k = 3000 , lower.tail = FALSE)"
      ],
      "metadata": {
        "colab": {
          "base_uri": "https://localhost:8080/",
          "height": 52
        },
        "id": "8kyG7sgrwT3P",
        "outputId": "2380f671-dae4-4a0e-b7a7-fcec8c33f1ca"
      },
      "execution_count": null,
      "outputs": [
        {
          "output_type": "display_data",
          "data": {
            "text/html": [
              "0.980110990847034"
            ],
            "text/markdown": "0.980110990847034",
            "text/latex": "0.980110990847034",
            "text/plain": [
              "[1] 0.980111"
            ]
          },
          "metadata": {}
        },
        {
          "output_type": "display_data",
          "data": {
            "text/html": [
              "0.49129518443015"
            ],
            "text/markdown": "0.49129518443015",
            "text/latex": "0.49129518443015",
            "text/plain": [
              "[1] 0.4912952"
            ]
          },
          "metadata": {}
        }
      ]
    },
    {
      "cell_type": "code",
      "source": [
        "?qhyper\n",
        "\n",
        "# Olasılık değerine göre elde edilecek durum sayısı\n",
        "\n",
        "qhyper(p = 0.6 , m = 5000 , n = 5000 , k = 3000 , lower.tail = TRUE)\n",
        "qhyper(p = 0.6 , m = 5000 , n = 5000 , k = 3000 , lower.tail = FALSE)"
      ],
      "metadata": {
        "colab": {
          "base_uri": "https://localhost:8080/",
          "height": 52
        },
        "id": "0ghRCnOQz5YC",
        "outputId": "aa6170ef-72c9-43b8-9e28-b2b062b7eb8e"
      },
      "execution_count": null,
      "outputs": [
        {
          "output_type": "display_data",
          "data": {
            "text/html": [
              "1506"
            ],
            "text/markdown": "1506",
            "text/latex": "1506",
            "text/plain": [
              "[1] 1506"
            ]
          },
          "metadata": {}
        },
        {
          "output_type": "display_data",
          "data": {
            "text/html": [
              "1494"
            ],
            "text/markdown": "1494",
            "text/latex": "1494",
            "text/plain": [
              "[1] 1494"
            ]
          },
          "metadata": {}
        }
      ]
    },
    {
      "cell_type": "code",
      "source": [
        "?rhyper\n",
        "\n",
        "# Rastgele veri üretimi\n",
        "\n",
        "rhyper(nn = 50 , m = 26 , n = 26 , k = 10)"
      ],
      "metadata": {
        "colab": {
          "base_uri": "https://localhost:8080/",
          "height": 34
        },
        "id": "JjTVAmPF0c7A",
        "outputId": "9e1b3873-05b4-48f3-ac67-1402f407812f"
      },
      "execution_count": null,
      "outputs": [
        {
          "output_type": "display_data",
          "data": {
            "text/html": [
              "<style>\n",
              ".list-inline {list-style: none; margin:0; padding: 0}\n",
              ".list-inline>li {display: inline-block}\n",
              ".list-inline>li:not(:last-child)::after {content: \"\\00b7\"; padding: 0 .5ex}\n",
              "</style>\n",
              "<ol class=list-inline><li>5</li><li>5</li><li>7</li><li>6</li><li>5</li><li>6</li><li>2</li><li>5</li><li>6</li><li>5</li><li>3</li><li>8</li><li>5</li><li>3</li><li>6</li><li>5</li><li>4</li><li>5</li><li>6</li><li>7</li><li>4</li><li>3</li><li>5</li><li>8</li><li>3</li><li>8</li><li>7</li><li>5</li><li>6</li><li>6</li><li>6</li><li>5</li><li>5</li><li>5</li><li>7</li><li>6</li><li>3</li><li>6</li><li>5</li><li>5</li><li>5</li><li>4</li><li>8</li><li>6</li><li>5</li><li>7</li><li>5</li><li>5</li><li>4</li><li>3</li></ol>\n"
            ],
            "text/markdown": "1. 5\n2. 5\n3. 7\n4. 6\n5. 5\n6. 6\n7. 2\n8. 5\n9. 6\n10. 5\n11. 3\n12. 8\n13. 5\n14. 3\n15. 6\n16. 5\n17. 4\n18. 5\n19. 6\n20. 7\n21. 4\n22. 3\n23. 5\n24. 8\n25. 3\n26. 8\n27. 7\n28. 5\n29. 6\n30. 6\n31. 6\n32. 5\n33. 5\n34. 5\n35. 7\n36. 6\n37. 3\n38. 6\n39. 5\n40. 5\n41. 5\n42. 4\n43. 8\n44. 6\n45. 5\n46. 7\n47. 5\n48. 5\n49. 4\n50. 3\n\n\n",
            "text/latex": "\\begin{enumerate*}\n\\item 5\n\\item 5\n\\item 7\n\\item 6\n\\item 5\n\\item 6\n\\item 2\n\\item 5\n\\item 6\n\\item 5\n\\item 3\n\\item 8\n\\item 5\n\\item 3\n\\item 6\n\\item 5\n\\item 4\n\\item 5\n\\item 6\n\\item 7\n\\item 4\n\\item 3\n\\item 5\n\\item 8\n\\item 3\n\\item 8\n\\item 7\n\\item 5\n\\item 6\n\\item 6\n\\item 6\n\\item 5\n\\item 5\n\\item 5\n\\item 7\n\\item 6\n\\item 3\n\\item 6\n\\item 5\n\\item 5\n\\item 5\n\\item 4\n\\item 8\n\\item 6\n\\item 5\n\\item 7\n\\item 5\n\\item 5\n\\item 4\n\\item 3\n\\end{enumerate*}\n",
            "text/plain": [
              " [1] 5 5 7 6 5 6 2 5 6 5 3 8 5 3 6 5 4 5 6 7 4 3 5 8 3 8 7 5 6 6 6 5 5 5 7 6 3 6\n",
              "[39] 5 5 5 4 8 6 5 7 5 5 4 3"
            ]
          },
          "metadata": {}
        }
      ]
    },
    {
      "cell_type": "markdown",
      "source": [
        "Uniform Dağılım"
      ],
      "metadata": {
        "id": "MZoLAQkIDzPL"
      }
    },
    {
      "cell_type": "code",
      "source": [
        "?dunif\n",
        "\n",
        "dunif(x = 5 , min = 0 , max = 10)"
      ],
      "metadata": {
        "colab": {
          "base_uri": "https://localhost:8080/",
          "height": 34
        },
        "id": "ScJJaHxxE7qS",
        "outputId": "9253d24c-3959-4145-c245-f0819c35427f"
      },
      "execution_count": null,
      "outputs": [
        {
          "output_type": "display_data",
          "data": {
            "text/html": [
              "0.1"
            ],
            "text/markdown": "0.1",
            "text/latex": "0.1",
            "text/plain": [
              "[1] 0.1"
            ]
          },
          "metadata": {}
        }
      ]
    },
    {
      "cell_type": "code",
      "source": [
        "?punif\n",
        "\n",
        "punif( q = 5 , min = 0 , max = 10 , lower.tail = FALSE)\n",
        "\n"
      ],
      "metadata": {
        "colab": {
          "base_uri": "https://localhost:8080/",
          "height": 34
        },
        "id": "X3-kKbZ8JPlK",
        "outputId": "efd1a8e1-3c39-4c3c-ccea-6187194f5727"
      },
      "execution_count": null,
      "outputs": [
        {
          "output_type": "display_data",
          "data": {
            "text/html": [
              "0.5"
            ],
            "text/markdown": "0.5",
            "text/latex": "0.5",
            "text/plain": [
              "[1] 0.5"
            ]
          },
          "metadata": {}
        }
      ]
    },
    {
      "cell_type": "code",
      "source": [
        "?qunif\n",
        "\n",
        "qunif( p = 0.5 , min = 0 , max = 10 , lower.tail = FALSE)\n",
        "qunif( p = 0.8 , min = 0 , max = 10 , lower.tail = TRUE)"
      ],
      "metadata": {
        "colab": {
          "base_uri": "https://localhost:8080/",
          "height": 52
        },
        "id": "EZzZWBNxJlQj",
        "outputId": "09b86fc7-69ee-45b9-e7af-d3058ade38b1"
      },
      "execution_count": null,
      "outputs": [
        {
          "output_type": "display_data",
          "data": {
            "text/html": [
              "5"
            ],
            "text/markdown": "5",
            "text/latex": "5",
            "text/plain": [
              "[1] 5"
            ]
          },
          "metadata": {}
        },
        {
          "output_type": "display_data",
          "data": {
            "text/html": [
              "8"
            ],
            "text/markdown": "8",
            "text/latex": "8",
            "text/plain": [
              "[1] 8"
            ]
          },
          "metadata": {}
        }
      ]
    },
    {
      "cell_type": "code",
      "source": [
        "?runif\n",
        "\n",
        "runif(n = 50 , min = 0 , max = 20)"
      ],
      "metadata": {
        "colab": {
          "base_uri": "https://localhost:8080/",
          "height": 173
        },
        "id": "1FOGekZaJ-Nz",
        "outputId": "05f7cbd3-85c0-4c8d-f310-3fac217f43ea"
      },
      "execution_count": null,
      "outputs": [
        {
          "output_type": "display_data",
          "data": {
            "text/html": [
              "<style>\n",
              ".list-inline {list-style: none; margin:0; padding: 0}\n",
              ".list-inline>li {display: inline-block}\n",
              ".list-inline>li:not(:last-child)::after {content: \"\\00b7\"; padding: 0 .5ex}\n",
              "</style>\n",
              "<ol class=list-inline><li>14.8296601325274</li><li>4.82355028390884</li><li>11.0504052974284</li><li>6.2631771992892</li><li>0.72736484464258</li><li>11.4731433382258</li><li>11.1774108372629</li><li>3.83704047184438</li><li>7.78889976907521</li><li>18.5227911081165</li><li>13.857201943174</li><li>12.9265983123332</li><li>4.33475840836763</li><li>9.81955243740231</li><li>4.74714000709355</li><li>18.009789888747</li><li>5.56556488387287</li><li>0.911437575705349</li><li>19.5817898353562</li><li>5.73936169035733</li><li>1.57546713482589</li><li>11.4891236368567</li><li>2.86491139326245</li><li>5.58097508735955</li><li>17.5510246865451</li><li>4.92313678376377</li><li>6.19319481775165</li><li>8.0188313126564</li><li>5.69006828125566</li><li>12.3831556737423</li><li>11.5222240937874</li><li>15.6779783032835</li><li>2.78004477266222</li><li>5.34754426218569</li><li>14.3543741898611</li><li>17.2590610710904</li><li>5.60300640761852</li><li>6.49358576629311</li><li>19.1752815339714</li><li>0.331441769376397</li><li>11.2705297349021</li><li>7.4902859237045</li><li>7.61137067805976</li><li>14.2340223817155</li><li>7.55016167182475</li><li>6.43765261396766</li><li>19.2790288804099</li><li>6.87402515672147</li><li>0.638799015432596</li><li>11.7059045191854</li></ol>\n"
            ],
            "text/markdown": "1. 14.8296601325274\n2. 4.82355028390884\n3. 11.0504052974284\n4. 6.2631771992892\n5. 0.72736484464258\n6. 11.4731433382258\n7. 11.1774108372629\n8. 3.83704047184438\n9. 7.78889976907521\n10. 18.5227911081165\n11. 13.857201943174\n12. 12.9265983123332\n13. 4.33475840836763\n14. 9.81955243740231\n15. 4.74714000709355\n16. 18.009789888747\n17. 5.56556488387287\n18. 0.911437575705349\n19. 19.5817898353562\n20. 5.73936169035733\n21. 1.57546713482589\n22. 11.4891236368567\n23. 2.86491139326245\n24. 5.58097508735955\n25. 17.5510246865451\n26. 4.92313678376377\n27. 6.19319481775165\n28. 8.0188313126564\n29. 5.69006828125566\n30. 12.3831556737423\n31. 11.5222240937874\n32. 15.6779783032835\n33. 2.78004477266222\n34. 5.34754426218569\n35. 14.3543741898611\n36. 17.2590610710904\n37. 5.60300640761852\n38. 6.49358576629311\n39. 19.1752815339714\n40. 0.331441769376397\n41. 11.2705297349021\n42. 7.4902859237045\n43. 7.61137067805976\n44. 14.2340223817155\n45. 7.55016167182475\n46. 6.43765261396766\n47. 19.2790288804099\n48. 6.87402515672147\n49. 0.638799015432596\n50. 11.7059045191854\n\n\n",
            "text/latex": "\\begin{enumerate*}\n\\item 14.8296601325274\n\\item 4.82355028390884\n\\item 11.0504052974284\n\\item 6.2631771992892\n\\item 0.72736484464258\n\\item 11.4731433382258\n\\item 11.1774108372629\n\\item 3.83704047184438\n\\item 7.78889976907521\n\\item 18.5227911081165\n\\item 13.857201943174\n\\item 12.9265983123332\n\\item 4.33475840836763\n\\item 9.81955243740231\n\\item 4.74714000709355\n\\item 18.009789888747\n\\item 5.56556488387287\n\\item 0.911437575705349\n\\item 19.5817898353562\n\\item 5.73936169035733\n\\item 1.57546713482589\n\\item 11.4891236368567\n\\item 2.86491139326245\n\\item 5.58097508735955\n\\item 17.5510246865451\n\\item 4.92313678376377\n\\item 6.19319481775165\n\\item 8.0188313126564\n\\item 5.69006828125566\n\\item 12.3831556737423\n\\item 11.5222240937874\n\\item 15.6779783032835\n\\item 2.78004477266222\n\\item 5.34754426218569\n\\item 14.3543741898611\n\\item 17.2590610710904\n\\item 5.60300640761852\n\\item 6.49358576629311\n\\item 19.1752815339714\n\\item 0.331441769376397\n\\item 11.2705297349021\n\\item 7.4902859237045\n\\item 7.61137067805976\n\\item 14.2340223817155\n\\item 7.55016167182475\n\\item 6.43765261396766\n\\item 19.2790288804099\n\\item 6.87402515672147\n\\item 0.638799015432596\n\\item 11.7059045191854\n\\end{enumerate*}\n",
            "text/plain": [
              " [1] 14.8296601  4.8235503 11.0504053  6.2631772  0.7273648 11.4731433\n",
              " [7] 11.1774108  3.8370405  7.7888998 18.5227911 13.8572019 12.9265983\n",
              "[13]  4.3347584  9.8195524  4.7471400 18.0097899  5.5655649  0.9114376\n",
              "[19] 19.5817898  5.7393617  1.5754671 11.4891236  2.8649114  5.5809751\n",
              "[25] 17.5510247  4.9231368  6.1931948  8.0188313  5.6900683 12.3831557\n",
              "[31] 11.5222241 15.6779783  2.7800448  5.3475443 14.3543742 17.2590611\n",
              "[37]  5.6030064  6.4935858 19.1752815  0.3314418 11.2705297  7.4902859\n",
              "[43]  7.6113707 14.2340224  7.5501617  6.4376526 19.2790289  6.8740252\n",
              "[49]  0.6387990 11.7059045"
            ]
          },
          "metadata": {}
        }
      ]
    },
    {
      "cell_type": "markdown",
      "source": [
        "Üstel Dağılım"
      ],
      "metadata": {
        "id": "64lM9XzWKfiF"
      }
    },
    {
      "cell_type": "code",
      "source": [
        "#Bir otobüs durağına 10 dakikada bir otobüs gelmektedir. Bu durumda;\n",
        "#Poisson Problemi : Bir dakika sonra otobüs gelmeme olasılığı nedir?\n",
        "#Üstel Problemi : Otobüsün gelmesinin bir dakikadan daha uzun sürmesi\n",
        "#Lambda bir dakika için 1/ 10'a eşit olacaktır.\n",
        "\n",
        "\n",
        "#?dexp\n",
        "\n",
        "dpois( x = 0 , lambda = 1/10)\n",
        "\n",
        "pexp( q = 1 , rate = 1/10 , lower.tail = FALSE)\n",
        "\n",
        "# 10 dakikada 1 gelen otobüsün 2.dakikada gelme olasılığı\n",
        "dexp( x = 2 , rate = 1/10)\n",
        "\n",
        "# %70 olasılıkla 20 dakikada 1 gelen otobüsün kaçıncı dakikadan sonra geleceği olasılık değeri\n",
        "qexp( p = 0.7 , rate = 1/20 , lower.tail = FALSE)\n",
        "\n",
        "# 20 dakikada 1 gelen otobüslerin kaçıncı dakikada gelebileceklerinin rastgele dağılımı\n",
        "\n",
        "rexp( n = 50 , rate = 1/20)\n",
        "\n",
        "\n",
        "\n"
      ],
      "metadata": {
        "colab": {
          "base_uri": "https://localhost:8080/",
          "height": 243
        },
        "id": "tY8G3l7XKeYa",
        "outputId": "ab5b6649-95a2-4158-f39f-be4d1d0d5da5"
      },
      "execution_count": null,
      "outputs": [
        {
          "output_type": "display_data",
          "data": {
            "text/html": [
              "0.90483741803596"
            ],
            "text/markdown": "0.90483741803596",
            "text/latex": "0.90483741803596",
            "text/plain": [
              "[1] 0.9048374"
            ]
          },
          "metadata": {}
        },
        {
          "output_type": "display_data",
          "data": {
            "text/html": [
              "0.90483741803596"
            ],
            "text/markdown": "0.90483741803596",
            "text/latex": "0.90483741803596",
            "text/plain": [
              "[1] 0.9048374"
            ]
          },
          "metadata": {}
        },
        {
          "output_type": "display_data",
          "data": {
            "text/html": [
              "0.0818730753077982"
            ],
            "text/markdown": "0.0818730753077982",
            "text/latex": "0.0818730753077982",
            "text/plain": [
              "[1] 0.08187308"
            ]
          },
          "metadata": {}
        },
        {
          "output_type": "display_data",
          "data": {
            "text/html": [
              "7.13349887877465"
            ],
            "text/markdown": "7.13349887877465",
            "text/latex": "7.13349887877465",
            "text/plain": [
              "[1] 7.133499"
            ]
          },
          "metadata": {}
        },
        {
          "output_type": "display_data",
          "data": {
            "text/html": [
              "<style>\n",
              ".list-inline {list-style: none; margin:0; padding: 0}\n",
              ".list-inline>li {display: inline-block}\n",
              ".list-inline>li:not(:last-child)::after {content: \"\\00b7\"; padding: 0 .5ex}\n",
              "</style>\n",
              "<ol class=list-inline><li>13.7977309059352</li><li>0.749671186865276</li><li>50.0121709306665</li><li>12.7317434549332</li><li>69.5596064212632</li><li>3.2808119161195</li><li>76.2044067266298</li><li>89.7684687123698</li><li>76.5657087434251</li><li>11.9255796074867</li><li>16.6657487294617</li><li>5.53521472659027</li><li>72.563282189331</li><li>6.36584771797061</li><li>51.0377835829682</li><li>37.0439937321429</li><li>10.12316362001</li><li>43.6011584060445</li><li>11.8397269677371</li><li>10.1925677093273</li><li>4.47512357495725</li><li>4.57326360046864</li><li>4.76672057882821</li><li>1.32880101911724</li><li>42.4921895910926</li><li>10.323580969125</li><li>31.8003552017694</li><li>24.0258486187997</li><li>2.99479375267723</li><li>13.3959605637938</li><li>4.26321824081242</li><li>11.3494172599167</li><li>7.1975085607583</li><li>11.4912704844028</li><li>4.90082924254239</li><li>7.48015546239913</li><li>0.620502857491374</li><li>19.6508677109125</li><li>16.2408956104291</li><li>2.76504840701818</li><li>47.2733962138124</li><li>58.3314818110237</li><li>24.5087279952271</li><li>41.2802566198592</li><li>14.3094446246446</li><li>0.724054370075464</li><li>0.255399532616138</li><li>4.29323576390743</li><li>1.61962881684303</li><li>56.096490618206</li></ol>\n"
            ],
            "text/markdown": "1. 13.7977309059352\n2. 0.749671186865276\n3. 50.0121709306665\n4. 12.7317434549332\n5. 69.5596064212632\n6. 3.2808119161195\n7. 76.2044067266298\n8. 89.7684687123698\n9. 76.5657087434251\n10. 11.9255796074867\n11. 16.6657487294617\n12. 5.53521472659027\n13. 72.563282189331\n14. 6.36584771797061\n15. 51.0377835829682\n16. 37.0439937321429\n17. 10.12316362001\n18. 43.6011584060445\n19. 11.8397269677371\n20. 10.1925677093273\n21. 4.47512357495725\n22. 4.57326360046864\n23. 4.76672057882821\n24. 1.32880101911724\n25. 42.4921895910926\n26. 10.323580969125\n27. 31.8003552017694\n28. 24.0258486187997\n29. 2.99479375267723\n30. 13.3959605637938\n31. 4.26321824081242\n32. 11.3494172599167\n33. 7.1975085607583\n34. 11.4912704844028\n35. 4.90082924254239\n36. 7.48015546239913\n37. 0.620502857491374\n38. 19.6508677109125\n39. 16.2408956104291\n40. 2.76504840701818\n41. 47.2733962138124\n42. 58.3314818110237\n43. 24.5087279952271\n44. 41.2802566198592\n45. 14.3094446246446\n46. 0.724054370075464\n47. 0.255399532616138\n48. 4.29323576390743\n49. 1.61962881684303\n50. 56.096490618206\n\n\n",
            "text/latex": "\\begin{enumerate*}\n\\item 13.7977309059352\n\\item 0.749671186865276\n\\item 50.0121709306665\n\\item 12.7317434549332\n\\item 69.5596064212632\n\\item 3.2808119161195\n\\item 76.2044067266298\n\\item 89.7684687123698\n\\item 76.5657087434251\n\\item 11.9255796074867\n\\item 16.6657487294617\n\\item 5.53521472659027\n\\item 72.563282189331\n\\item 6.36584771797061\n\\item 51.0377835829682\n\\item 37.0439937321429\n\\item 10.12316362001\n\\item 43.6011584060445\n\\item 11.8397269677371\n\\item 10.1925677093273\n\\item 4.47512357495725\n\\item 4.57326360046864\n\\item 4.76672057882821\n\\item 1.32880101911724\n\\item 42.4921895910926\n\\item 10.323580969125\n\\item 31.8003552017694\n\\item 24.0258486187997\n\\item 2.99479375267723\n\\item 13.3959605637938\n\\item 4.26321824081242\n\\item 11.3494172599167\n\\item 7.1975085607583\n\\item 11.4912704844028\n\\item 4.90082924254239\n\\item 7.48015546239913\n\\item 0.620502857491374\n\\item 19.6508677109125\n\\item 16.2408956104291\n\\item 2.76504840701818\n\\item 47.2733962138124\n\\item 58.3314818110237\n\\item 24.5087279952271\n\\item 41.2802566198592\n\\item 14.3094446246446\n\\item 0.724054370075464\n\\item 0.255399532616138\n\\item 4.29323576390743\n\\item 1.61962881684303\n\\item 56.096490618206\n\\end{enumerate*}\n",
            "text/plain": [
              " [1] 13.7977309  0.7496712 50.0121709 12.7317435 69.5596064  3.2808119\n",
              " [7] 76.2044067 89.7684687 76.5657087 11.9255796 16.6657487  5.5352147\n",
              "[13] 72.5632822  6.3658477 51.0377836 37.0439937 10.1231636 43.6011584\n",
              "[19] 11.8397270 10.1925677  4.4751236  4.5732636  4.7667206  1.3288010\n",
              "[25] 42.4921896 10.3235810 31.8003552 24.0258486  2.9947938 13.3959606\n",
              "[31]  4.2632182 11.3494173  7.1975086 11.4912705  4.9008292  7.4801555\n",
              "[37]  0.6205029 19.6508677 16.2408956  2.7650484 47.2733962 58.3314818\n",
              "[43] 24.5087280 41.2802566 14.3094446  0.7240544  0.2553995  4.2932358\n",
              "[49]  1.6196288 56.0964906"
            ]
          },
          "metadata": {}
        }
      ]
    },
    {
      "cell_type": "markdown",
      "source": [
        "Normal Dağılım"
      ],
      "metadata": {
        "id": "AI6C9DcWOeD1"
      }
    },
    {
      "cell_type": "code",
      "source": [
        "#?dnorm\n",
        "\n",
        "\n",
        "#ortalaması 30 ve standart saapması 5 olan bir veri setinden 20 sayısını elde etme olasılığı\n",
        "dnorm(x = 20 , mean = 30 , sd = 5)\n",
        "\n",
        "dnorm(x = 25  , mean = 30 , sd = 5)\n",
        "\n",
        "# Bir sınıfta ki erkeklerin boylarının ortalaması 180 cm ve sd değeri de 10 cm dir\n",
        "# 160 cm den daha fazla olma olasılığı \n",
        "\n",
        "pnorm(q = 160 , mean = 180 , sd = 10 , lower.tail = FALSE)\n",
        "\n",
        "# en az %70 olasılıkla kaç cm den uzun birini seçme boyu\n",
        "qnorm( p = 0.7 , mean = 180 , sd = 10 , lower.tail = FALSE)\n",
        "\n",
        "#rastgele normal dağılan veriler\n",
        "rnorm(n = 50 , mean = 40 , sd = 10)\n",
        "r <- rnorm(n = 50 , mean = 40 , sd = 10)\n",
        "\n",
        "\n",
        "mean(r)\n",
        "sd(r)\n",
        "hist(r)"
      ],
      "metadata": {
        "colab": {
          "base_uri": "https://localhost:8080/",
          "height": 697
        },
        "id": "3w6FeM9iOh8U",
        "outputId": "f59d1427-ec88-4d70-dabc-5bac32c2c7be"
      },
      "execution_count": null,
      "outputs": [
        {
          "output_type": "display_data",
          "data": {
            "text/html": [
              "0.0107981933026376"
            ],
            "text/markdown": "0.0107981933026376",
            "text/latex": "0.0107981933026376",
            "text/plain": [
              "[1] 0.01079819"
            ]
          },
          "metadata": {}
        },
        {
          "output_type": "display_data",
          "data": {
            "text/html": [
              "0.0483941449038287"
            ],
            "text/markdown": "0.0483941449038287",
            "text/latex": "0.0483941449038287",
            "text/plain": [
              "[1] 0.04839414"
            ]
          },
          "metadata": {}
        },
        {
          "output_type": "display_data",
          "data": {
            "text/html": [
              "0.977249868051821"
            ],
            "text/markdown": "0.977249868051821",
            "text/latex": "0.977249868051821",
            "text/plain": [
              "[1] 0.9772499"
            ]
          },
          "metadata": {}
        },
        {
          "output_type": "display_data",
          "data": {
            "text/html": [
              "174.75599487292"
            ],
            "text/markdown": "174.75599487292",
            "text/latex": "174.75599487292",
            "text/plain": [
              "[1] 174.756"
            ]
          },
          "metadata": {}
        },
        {
          "output_type": "display_data",
          "data": {
            "text/html": [
              "<style>\n",
              ".list-inline {list-style: none; margin:0; padding: 0}\n",
              ".list-inline>li {display: inline-block}\n",
              ".list-inline>li:not(:last-child)::after {content: \"\\00b7\"; padding: 0 .5ex}\n",
              "</style>\n",
              "<ol class=list-inline><li>35.9572142059285</li><li>37.3303561798747</li><li>27.2150374051328</li><li>38.1269498026764</li><li>49.016646724603</li><li>34.9089039264585</li><li>38.5050704054256</li><li>36.854273430726</li><li>22.6707287728957</li><li>26.7392939542865</li><li>34.7809701567374</li><li>24.1340957389223</li><li>28.4691326840813</li><li>36.0646001950948</li><li>40.6887899932671</li><li>53.1438172399907</li><li>28.3595874886634</li><li>51.7645777221458</li><li>36.0368474778581</li><li>22.4469707754241</li><li>46.722965012846</li><li>42.7688951349947</li><li>56.2409871564545</li><li>31.6203800007717</li><li>54.4544722413921</li><li>25.5719977804553</li><li>18.2221528608129</li><li>64.7136331151841</li><li>24.1850588392863</li><li>42.6774373368088</li><li>31.7791632316346</li><li>38.8404869446628</li><li>39.4617163357152</li><li>56.0739558950103</li><li>33.3174098394919</li><li>42.2070401564611</li><li>36.8840590853192</li><li>47.6577452193046</li><li>30.5630953540034</li><li>33.9143112640454</li><li>44.1998726346964</li><li>45.0822823019883</li><li>37.6913248263302</li><li>39.1552120355952</li><li>43.2593472067671</li><li>45.2874950365938</li><li>37.7920308638782</li><li>46.6296944030419</li><li>24.8329698153051</li><li>43.81348400271</li></ol>\n"
            ],
            "text/markdown": "1. 35.9572142059285\n2. 37.3303561798747\n3. 27.2150374051328\n4. 38.1269498026764\n5. 49.016646724603\n6. 34.9089039264585\n7. 38.5050704054256\n8. 36.854273430726\n9. 22.6707287728957\n10. 26.7392939542865\n11. 34.7809701567374\n12. 24.1340957389223\n13. 28.4691326840813\n14. 36.0646001950948\n15. 40.6887899932671\n16. 53.1438172399907\n17. 28.3595874886634\n18. 51.7645777221458\n19. 36.0368474778581\n20. 22.4469707754241\n21. 46.722965012846\n22. 42.7688951349947\n23. 56.2409871564545\n24. 31.6203800007717\n25. 54.4544722413921\n26. 25.5719977804553\n27. 18.2221528608129\n28. 64.7136331151841\n29. 24.1850588392863\n30. 42.6774373368088\n31. 31.7791632316346\n32. 38.8404869446628\n33. 39.4617163357152\n34. 56.0739558950103\n35. 33.3174098394919\n36. 42.2070401564611\n37. 36.8840590853192\n38. 47.6577452193046\n39. 30.5630953540034\n40. 33.9143112640454\n41. 44.1998726346964\n42. 45.0822823019883\n43. 37.6913248263302\n44. 39.1552120355952\n45. 43.2593472067671\n46. 45.2874950365938\n47. 37.7920308638782\n48. 46.6296944030419\n49. 24.8329698153051\n50. 43.81348400271\n\n\n",
            "text/latex": "\\begin{enumerate*}\n\\item 35.9572142059285\n\\item 37.3303561798747\n\\item 27.2150374051328\n\\item 38.1269498026764\n\\item 49.016646724603\n\\item 34.9089039264585\n\\item 38.5050704054256\n\\item 36.854273430726\n\\item 22.6707287728957\n\\item 26.7392939542865\n\\item 34.7809701567374\n\\item 24.1340957389223\n\\item 28.4691326840813\n\\item 36.0646001950948\n\\item 40.6887899932671\n\\item 53.1438172399907\n\\item 28.3595874886634\n\\item 51.7645777221458\n\\item 36.0368474778581\n\\item 22.4469707754241\n\\item 46.722965012846\n\\item 42.7688951349947\n\\item 56.2409871564545\n\\item 31.6203800007717\n\\item 54.4544722413921\n\\item 25.5719977804553\n\\item 18.2221528608129\n\\item 64.7136331151841\n\\item 24.1850588392863\n\\item 42.6774373368088\n\\item 31.7791632316346\n\\item 38.8404869446628\n\\item 39.4617163357152\n\\item 56.0739558950103\n\\item 33.3174098394919\n\\item 42.2070401564611\n\\item 36.8840590853192\n\\item 47.6577452193046\n\\item 30.5630953540034\n\\item 33.9143112640454\n\\item 44.1998726346964\n\\item 45.0822823019883\n\\item 37.6913248263302\n\\item 39.1552120355952\n\\item 43.2593472067671\n\\item 45.2874950365938\n\\item 37.7920308638782\n\\item 46.6296944030419\n\\item 24.8329698153051\n\\item 43.81348400271\n\\end{enumerate*}\n",
            "text/plain": [
              " [1] 35.95721 37.33036 27.21504 38.12695 49.01665 34.90890 38.50507 36.85427\n",
              " [9] 22.67073 26.73929 34.78097 24.13410 28.46913 36.06460 40.68879 53.14382\n",
              "[17] 28.35959 51.76458 36.03685 22.44697 46.72297 42.76890 56.24099 31.62038\n",
              "[25] 54.45447 25.57200 18.22215 64.71363 24.18506 42.67744 31.77916 38.84049\n",
              "[33] 39.46172 56.07396 33.31741 42.20704 36.88406 47.65775 30.56310 33.91431\n",
              "[41] 44.19987 45.08228 37.69132 39.15521 43.25935 45.28750 37.79203 46.62969\n",
              "[49] 24.83297 43.81348"
            ]
          },
          "metadata": {}
        },
        {
          "output_type": "display_data",
          "data": {
            "text/html": [
              "40.2079416831021"
            ],
            "text/markdown": "40.2079416831021",
            "text/latex": "40.2079416831021",
            "text/plain": [
              "[1] 40.20794"
            ]
          },
          "metadata": {}
        },
        {
          "output_type": "display_data",
          "data": {
            "text/html": [
              "8.54621410407968"
            ],
            "text/markdown": "8.54621410407968",
            "text/latex": "8.54621410407968",
            "text/plain": [
              "[1] 8.546214"
            ]
          },
          "metadata": {}
        },
        {
          "output_type": "display_data",
          "data": {
            "text/plain": [
              "Plot with title “Histogram of r”"
            ],
            "image/png": "[encoded data removed]"
          },
          "metadata": {
            "image/png": {
              "width": 420,
              "height": 420
            }
          }
        }
      ]
    }
  ]
}
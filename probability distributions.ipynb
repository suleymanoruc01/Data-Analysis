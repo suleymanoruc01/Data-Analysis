{
  "nbformat": 4,
  "nbformat_minor": 0,
  "metadata": {
    "colab": {
      "provenance": [],
      "authorship_tag": "ABX9TyOJ819E3g4m55X9XB+Hjzou",
      "include_colab_link": true
    },
    "kernelspec": {
      "name": "ir",
      "display_name": "R"
    },
    "language_info": {
      "name": "R"
    }
  },
  "cells": [
    {
      "cell_type": "markdown",
      "metadata": {
        "id": "view-in-github",
        "colab_type": "text"
      },
      "source": [
        "<a href=\"https://colab.research.google.com/github/suleymanoruc01/Data-Analysis/blob/main/probability%20distributions.ipynb\" target=\"_parent\"><img src=\"https://colab.research.google.com/assets/colab-badge.svg\" alt=\"Open In Colab\"/></a>"
      ]
    },
    {
      "cell_type": "code",
      "execution_count": null,
      "metadata": {
        "id": "D5Z-MxdOYLsr"
      },
      "outputs": [],
      "source": [
        "install.packages(\"Rlab\")\n",
        "library(Rlab)"
      ]
    },
    {
      "cell_type": "markdown",
      "source": [
        "Bernoulli Dağılımı"
      ],
      "metadata": {
        "id": "Q-f-SaW-aw0c"
      }
    },
    {
      "cell_type": "code",
      "source": [
        "?dbern\n",
        "\n",
        "#Başarılı olma olasılığı 0.6\n",
        "dbern(x = 0 , prob= 0.6)\n",
        "\n",
        "#Başarılı olma olasılığı 0.7\n",
        "dbern(x = 1 , prob= 0.7)\n",
        "# x 0 ve 1 değerleri alabilir 0 başarısız olma 1 başarılı olma durumunu belirtir. Prob değeri ise başarılı olma olasılığıdır."
      ],
      "metadata": {
        "id": "eMmxAZqFanAm"
      },
      "execution_count": null,
      "outputs": []
    },
    {
      "cell_type": "code",
      "source": [
        "?pbern\n",
        "\n",
        "pbern(q = 1 , prob = 0.7 , lower.tail = TRUE)\n",
        "\n",
        "# q değeri istenilen olasılık değerlerini , prob değeri başarılı olma olasılık değeri , lower.tail değeri ise TRUE değerinde iken q değerinden daha az olma FALSE değerinde iken q değerinden daha fazla olma olasılıklarına bakar.\n"
      ],
      "metadata": {
        "id": "sLUIHAWqbkY7"
      },
      "execution_count": null,
      "outputs": []
    },
    {
      "cell_type": "code",
      "source": [
        "?rbern\n",
        "\n",
        "r <- rbern(n = 50 , prob = 0.5)\n",
        "r\n",
        "table(r)\n",
        "\n",
        "# n üretilecek rastgele değer sayısı , prob ise üretilecek değerler içinde ki 1 lerin oranı"
      ],
      "metadata": {
        "colab": {
          "base_uri": "https://localhost:8080/",
          "height": 86
        },
        "id": "WDvFRhEBc7wI",
        "outputId": "be05cb70-b733-412d-ff9c-6ca9cdf4ad7a"
      },
      "execution_count": 8,
      "outputs": [
        {
          "output_type": "display_data",
          "data": {
            "text/html": [
              "<style>\n",
              ".list-inline {list-style: none; margin:0; padding: 0}\n",
              ".list-inline>li {display: inline-block}\n",
              ".list-inline>li:not(:last-child)::after {content: \"\\00b7\"; padding: 0 .5ex}\n",
              "</style>\n",
              "<ol class=list-inline><li>0</li><li>1</li><li>1</li><li>0</li><li>0</li><li>1</li><li>1</li><li>0</li><li>0</li><li>1</li><li>0</li><li>1</li><li>1</li><li>1</li><li>0</li><li>1</li><li>1</li><li>0</li><li>1</li><li>0</li><li>0</li><li>0</li><li>1</li><li>1</li><li>0</li><li>0</li><li>1</li><li>0</li><li>0</li><li>0</li><li>1</li><li>0</li><li>0</li><li>0</li><li>1</li><li>0</li><li>0</li><li>1</li><li>1</li><li>0</li><li>1</li><li>1</li><li>0</li><li>0</li><li>1</li><li>0</li><li>0</li><li>1</li><li>0</li><li>1</li></ol>\n"
            ],
            "text/markdown": "1. 0\n2. 1\n3. 1\n4. 0\n5. 0\n6. 1\n7. 1\n8. 0\n9. 0\n10. 1\n11. 0\n12. 1\n13. 1\n14. 1\n15. 0\n16. 1\n17. 1\n18. 0\n19. 1\n20. 0\n21. 0\n22. 0\n23. 1\n24. 1\n25. 0\n26. 0\n27. 1\n28. 0\n29. 0\n30. 0\n31. 1\n32. 0\n33. 0\n34. 0\n35. 1\n36. 0\n37. 0\n38. 1\n39. 1\n40. 0\n41. 1\n42. 1\n43. 0\n44. 0\n45. 1\n46. 0\n47. 0\n48. 1\n49. 0\n50. 1\n\n\n",
            "text/latex": "\\begin{enumerate*}\n\\item 0\n\\item 1\n\\item 1\n\\item 0\n\\item 0\n\\item 1\n\\item 1\n\\item 0\n\\item 0\n\\item 1\n\\item 0\n\\item 1\n\\item 1\n\\item 1\n\\item 0\n\\item 1\n\\item 1\n\\item 0\n\\item 1\n\\item 0\n\\item 0\n\\item 0\n\\item 1\n\\item 1\n\\item 0\n\\item 0\n\\item 1\n\\item 0\n\\item 0\n\\item 0\n\\item 1\n\\item 0\n\\item 0\n\\item 0\n\\item 1\n\\item 0\n\\item 0\n\\item 1\n\\item 1\n\\item 0\n\\item 1\n\\item 1\n\\item 0\n\\item 0\n\\item 1\n\\item 0\n\\item 0\n\\item 1\n\\item 0\n\\item 1\n\\end{enumerate*}\n",
            "text/plain": [
              " [1] 0 1 1 0 0 1 1 0 0 1 0 1 1 1 0 1 1 0 1 0 0 0 1 1 0 0 1 0 0 0 1 0 0 0 1 0 0 1\n",
              "[39] 1 0 1 1 0 0 1 0 0 1 0 1"
            ]
          },
          "metadata": {}
        },
        {
          "output_type": "display_data",
          "data": {
            "text/plain": [
              "r\n",
              " 0  1 \n",
              "27 23 "
            ]
          },
          "metadata": {}
        }
      ]
    },
    {
      "cell_type": "markdown",
      "source": [
        "Binom Dağılımı"
      ],
      "metadata": {
        "id": "qwBYR3_8drB6"
      }
    },
    {
      "cell_type": "code",
      "source": [
        "?dbinom\n",
        "\n",
        "# Bir olayda başarılı olma olasılığı 0.7 başarısızlık 1 - 0.7 = 0.3\n",
        "\n",
        "dbinom(x = 5 , size = 10 , prob = 0.7)\n",
        "\n",
        "# 10 denemede 5 defa 0.7 olasılıkla başarılı olma olasılığı 0.1029193452 olarak bulundu.\n",
        "\n",
        "plot( x = 1:30 , y = dbinom(x = 1:30 , size = 30 , prob = 0.7) , bty = \"L\" , pch = 19) \n",
        "\n",
        "lines(dbinom(x = 1:30 , size = 30 , prob = 0.5))"
      ],
      "metadata": {
        "id": "zERcwjLodvQj"
      },
      "execution_count": null,
      "outputs": []
    },
    {
      "cell_type": "code",
      "source": [
        "?pbinom\n",
        "pbinom( q = 5 , size= 30 , prob = 0.7 , lower.tail = TRUE)\n",
        "\n",
        "# Bir e-ticaret sitesine gelen ortalama 4 müşteriden 1'i alış\n",
        "# veriş yapıyor. Bu e-ticaret sitesine bir gün için 30 müşteri girmesi\n",
        "# bekleniyor en az 10 alış veriş yapılma olasılığı nedir?\n",
        "\n",
        "pbinom(q = 9 , size = 30 , prob = 1/4 , lower.tail = FALSE)"
      ],
      "metadata": {
        "id": "isU-zvn8pvkn"
      },
      "execution_count": null,
      "outputs": []
    },
    {
      "cell_type": "code",
      "source": [
        "?qbinom\n",
        "# Olasılık değerine göre kaç kare başarılı olacağımızı elde ederiz\n",
        "\n",
        "qbinom(p = 0.7 , size = 30 , prob = 1/4 , lower.tail = FALSE)"
      ],
      "metadata": {
        "id": "h0xzItonp0IH"
      },
      "execution_count": null,
      "outputs": []
    },
    {
      "cell_type": "code",
      "source": [
        "?rbinom\n",
        "# Rastgele Binam Dağılan Veriler\n",
        "\n",
        "d <- rbinom(n = 50, size = 30 , prob = 1/4)\n",
        "hist(d)"
      ],
      "metadata": {
        "id": "D2cpMf-yp34Z"
      },
      "execution_count": null,
      "outputs": []
    },
    {
      "cell_type": "markdown",
      "source": [
        "Poisson Dağılımı"
      ],
      "metadata": {
        "id": "C-zB_G-GmYal"
      }
    },
    {
      "cell_type": "code",
      "source": [
        "?dpois\n",
        "# 1 saatte 15 tane araba geçiyor\n",
        "\n",
        "# 1 saatte 20 tane araba geçme olasılığı\n",
        "dpois(x=20 , lambda = 15)\n",
        "\n",
        "plot(1:30 , dpois(x = 1:30 , lambda = 15) , bty =\"L\" , pch = 20 , col=\"red\")\n",
        "\n",
        "lines(dpois(x = 1:30 , lambda = 20), lwd = 2 , col = \"blue\")\n",
        "\n"
      ],
      "metadata": {
        "id": "tlr49xt6mdw3"
      },
      "execution_count": null,
      "outputs": []
    },
    {
      "cell_type": "code",
      "source": [
        "?ppois\n",
        "\n",
        "#1 dakikada araba geçme olasılığı = 1/3\n",
        "\n",
        "ppois( q = 2 , lambda = 1/3 , lower.tail = FALSE)\n",
        "ppois( q = 2 , lambda = 1/3 , lower.tail = TRUE)\n",
        "\n",
        "#Örnek .\n",
        "#E-Ticaret sitesi üzerine bir Makine Öğrenmesi algoritması\n",
        "#eklendi ve algoritma ile müşterilerin beğenebileceği ürünler\n",
        "#tahmin edilerek satış yapma olasılığı tahmin edilrek isteniyor.\n",
        "#Makine öğrenmesi algoritması eklendikten sonra elde edilen\n",
        "#verilere göre günün öğlen saatlerinin 1 saatlik zaman diliminde\n",
        "#makine öğrenmesi modeli ile ürün tavsiyelerini gören rüşterilerden\n",
        "#20 tanesi satın alma işlemi yapıyor. Buna göre herhangi başka bir\n",
        "#öğlen saatlerinde 1 saatlik zaman diliminde 30'dan fazla satış yapılma olasılığı\n",
        "#nedir.\n",
        "\n",
        "ppois(q = 30 , lambda = 20 , lower.tail = FALSE)\n"
      ],
      "metadata": {
        "colab": {
          "base_uri": "https://localhost:8080/",
          "height": 86
        },
        "id": "uqshYWqTpsnB",
        "outputId": "cf5284b8-0186-4f7f-9988-6904935a0376"
      },
      "execution_count": 35,
      "outputs": [
        {
          "output_type": "display_data",
          "data": {
            "text/html": [
              "0.00481762420307048"
            ],
            "text/markdown": "0.00481762420307048",
            "text/latex": "0.00481762420307048",
            "text/plain": [
              "[1] 0.004817624"
            ]
          },
          "metadata": {}
        },
        {
          "output_type": "display_data",
          "data": {
            "text/html": [
              "0.995182375796929"
            ],
            "text/markdown": "0.995182375796929",
            "text/latex": "0.995182375796929",
            "text/plain": [
              "[1] 0.9951824"
            ]
          },
          "metadata": {}
        },
        {
          "output_type": "display_data",
          "data": {
            "text/html": [
              "0.0134746812799223"
            ],
            "text/markdown": "0.0134746812799223",
            "text/latex": "0.0134746812799223",
            "text/plain": [
              "[1] 0.01347468"
            ]
          },
          "metadata": {}
        },
        {
          "output_type": "display_data",
          "data": {
            "text/html": [
              "0.999999956715774"
            ],
            "text/markdown": "0.999999956715774",
            "text/latex": "0.999999956715774",
            "text/plain": [
              "[1] 1"
            ]
          },
          "metadata": {}
        }
      ]
    },
    {
      "cell_type": "code",
      "source": [
        "?qpois\n",
        "\n",
        "# Olasılık değerine göre x değeri elde etmek\n",
        "\n",
        "qpois( p = 0.6 , lambda = 15 , lower.tail = TRUE)\n",
        "qpois( p = 0.1 , lambda = 15 , lower.tail = FALSE)"
      ],
      "metadata": {
        "colab": {
          "base_uri": "https://localhost:8080/",
          "height": 52
        },
        "id": "MtScwZPhrvab",
        "outputId": "2c39c506-a5ea-45b0-b3eb-3e03dcbf240c"
      },
      "execution_count": 42,
      "outputs": [
        {
          "output_type": "display_data",
          "data": {
            "text/html": [
              "16"
            ],
            "text/markdown": "16",
            "text/latex": "16",
            "text/plain": [
              "[1] 16"
            ]
          },
          "metadata": {}
        },
        {
          "output_type": "display_data",
          "data": {
            "text/html": [
              "20"
            ],
            "text/markdown": "20",
            "text/latex": "20",
            "text/plain": [
              "[1] 20"
            ]
          },
          "metadata": {}
        }
      ]
    },
    {
      "cell_type": "code",
      "source": [
        "?rpois\n",
        "\n",
        "# Rastgele veri üretimi\n",
        "\n",
        "rpois(n = 50 , lambda = 15)\n"
      ],
      "metadata": {
        "colab": {
          "base_uri": "https://localhost:8080/",
          "height": 52
        },
        "id": "qA8pF-2ysTRz",
        "outputId": "bd4c6f46-11a0-4e85-d5da-1c9c039c633a"
      },
      "execution_count": 45,
      "outputs": [
        {
          "output_type": "display_data",
          "data": {
            "text/html": [
              "<style>\n",
              ".list-inline {list-style: none; margin:0; padding: 0}\n",
              ".list-inline>li {display: inline-block}\n",
              ".list-inline>li:not(:last-child)::after {content: \"\\00b7\"; padding: 0 .5ex}\n",
              "</style>\n",
              "<ol class=list-inline><li>8</li><li>15</li><li>11</li><li>11</li><li>18</li><li>11</li><li>13</li><li>13</li><li>10</li><li>16</li><li>11</li><li>17</li><li>16</li><li>11</li><li>14</li><li>10</li><li>13</li><li>27</li><li>15</li><li>16</li><li>13</li><li>17</li><li>14</li><li>12</li><li>10</li><li>12</li><li>15</li><li>18</li><li>11</li><li>11</li><li>16</li><li>16</li><li>13</li><li>20</li><li>14</li><li>12</li><li>12</li><li>12</li><li>15</li><li>20</li><li>15</li><li>13</li><li>12</li><li>15</li><li>11</li><li>16</li><li>12</li><li>16</li><li>9</li><li>14</li></ol>\n"
            ],
            "text/markdown": "1. 8\n2. 15\n3. 11\n4. 11\n5. 18\n6. 11\n7. 13\n8. 13\n9. 10\n10. 16\n11. 11\n12. 17\n13. 16\n14. 11\n15. 14\n16. 10\n17. 13\n18. 27\n19. 15\n20. 16\n21. 13\n22. 17\n23. 14\n24. 12\n25. 10\n26. 12\n27. 15\n28. 18\n29. 11\n30. 11\n31. 16\n32. 16\n33. 13\n34. 20\n35. 14\n36. 12\n37. 12\n38. 12\n39. 15\n40. 20\n41. 15\n42. 13\n43. 12\n44. 15\n45. 11\n46. 16\n47. 12\n48. 16\n49. 9\n50. 14\n\n\n",
            "text/latex": "\\begin{enumerate*}\n\\item 8\n\\item 15\n\\item 11\n\\item 11\n\\item 18\n\\item 11\n\\item 13\n\\item 13\n\\item 10\n\\item 16\n\\item 11\n\\item 17\n\\item 16\n\\item 11\n\\item 14\n\\item 10\n\\item 13\n\\item 27\n\\item 15\n\\item 16\n\\item 13\n\\item 17\n\\item 14\n\\item 12\n\\item 10\n\\item 12\n\\item 15\n\\item 18\n\\item 11\n\\item 11\n\\item 16\n\\item 16\n\\item 13\n\\item 20\n\\item 14\n\\item 12\n\\item 12\n\\item 12\n\\item 15\n\\item 20\n\\item 15\n\\item 13\n\\item 12\n\\item 15\n\\item 11\n\\item 16\n\\item 12\n\\item 16\n\\item 9\n\\item 14\n\\end{enumerate*}\n",
            "text/plain": [
              " [1]  8 15 11 11 18 11 13 13 10 16 11 17 16 11 14 10 13 27 15 16 13 17 14 12 10\n",
              "[26] 12 15 18 11 11 16 16 13 20 14 12 12 12 15 20 15 13 12 15 11 16 12 16  9 14"
            ]
          },
          "metadata": {}
        },
        {
          "output_type": "display_data",
          "data": {
            "text/html": [
              "<style>\n",
              ".list-inline {list-style: none; margin:0; padding: 0}\n",
              ".list-inline>li {display: inline-block}\n",
              ".list-inline>li:not(:last-child)::after {content: \"\\00b7\"; padding: 0 .5ex}\n",
              "</style>\n",
              "<ol class=list-inline><li>22</li><li>21</li><li>12</li><li>16</li><li>19</li><li>20</li><li>25</li><li>18</li><li>13</li><li>22</li><li>20</li><li>26</li><li>19</li><li>22</li><li>18</li><li>27</li><li>24</li><li>20</li><li>14</li><li>29</li><li>17</li><li>14</li><li>19</li><li>12</li><li>14</li><li>24</li><li>17</li><li>23</li><li>20</li><li>23</li><li>22</li><li>20</li><li>13</li><li>31</li><li>13</li><li>20</li><li>24</li><li>24</li><li>34</li><li>13</li><li>21</li><li>22</li><li>14</li><li>22</li><li>19</li><li>16</li><li>17</li><li>20</li><li>17</li><li>21</li></ol>\n"
            ],
            "text/markdown": "1. 22\n2. 21\n3. 12\n4. 16\n5. 19\n6. 20\n7. 25\n8. 18\n9. 13\n10. 22\n11. 20\n12. 26\n13. 19\n14. 22\n15. 18\n16. 27\n17. 24\n18. 20\n19. 14\n20. 29\n21. 17\n22. 14\n23. 19\n24. 12\n25. 14\n26. 24\n27. 17\n28. 23\n29. 20\n30. 23\n31. 22\n32. 20\n33. 13\n34. 31\n35. 13\n36. 20\n37. 24\n38. 24\n39. 34\n40. 13\n41. 21\n42. 22\n43. 14\n44. 22\n45. 19\n46. 16\n47. 17\n48. 20\n49. 17\n50. 21\n\n\n",
            "text/latex": "\\begin{enumerate*}\n\\item 22\n\\item 21\n\\item 12\n\\item 16\n\\item 19\n\\item 20\n\\item 25\n\\item 18\n\\item 13\n\\item 22\n\\item 20\n\\item 26\n\\item 19\n\\item 22\n\\item 18\n\\item 27\n\\item 24\n\\item 20\n\\item 14\n\\item 29\n\\item 17\n\\item 14\n\\item 19\n\\item 12\n\\item 14\n\\item 24\n\\item 17\n\\item 23\n\\item 20\n\\item 23\n\\item 22\n\\item 20\n\\item 13\n\\item 31\n\\item 13\n\\item 20\n\\item 24\n\\item 24\n\\item 34\n\\item 13\n\\item 21\n\\item 22\n\\item 14\n\\item 22\n\\item 19\n\\item 16\n\\item 17\n\\item 20\n\\item 17\n\\item 21\n\\end{enumerate*}\n",
            "text/plain": [
              " [1] 22 21 12 16 19 20 25 18 13 22 20 26 19 22 18 27 24 20 14 29 17 14 19 12 14\n",
              "[26] 24 17 23 20 23 22 20 13 31 13 20 24 24 34 13 21 22 14 22 19 16 17 20 17 21"
            ]
          },
          "metadata": {}
        }
      ]
    },
    {
      "cell_type": "markdown",
      "source": [
        "Hipergeometrik Dağılım"
      ],
      "metadata": {
        "id": "C2aWoYp6tzbt"
      }
    },
    {
      "cell_type": "code",
      "source": [
        "?dhyper\n",
        "\n",
        "# 10 denemede 52 kart içinde 26 adet kırmızı bulunan desteden 4 tane kırmızı kart çekme olasılığı\n",
        "dhyper(x = 4 , m = 26 , n = 26 , k = 10)\n",
        "\n",
        "plot(1:26 , dhyper(x = 1:26 , m = 26 , n = 26 , k = 10) , bty = \"L\" , pch = 20 , col = \"red\")\n",
        "\n",
        "lines(dhyper(x = 1:26 , m = 40 , n = 12 , k = 10))"
      ],
      "metadata": {
        "colab": {
          "base_uri": "https://localhost:8080/",
          "height": 454
        },
        "id": "MdC3vveUt2fU",
        "outputId": "06ddcb02-008e-48fb-a9bc-1c38b76fe538"
      },
      "execution_count": 52,
      "outputs": [
        {
          "output_type": "display_data",
          "data": {
            "text/html": [
              "0.21756847221818"
            ],
            "text/markdown": "0.21756847221818",
            "text/latex": "0.21756847221818",
            "text/plain": [
              "[1] 0.2175685"
            ]
          },
          "metadata": {}
        },
        {
          "output_type": "display_data",
          "data": {
            "text/plain": [
              "plot without title"
            ],
            "image/png": "[encoded data removed]"
          },
          "metadata": {
            "image/png": {
              "width": 420,
              "height": 420
            }
          }
        }
      ]
    },
    {
      "cell_type": "code",
      "source": [
        "?phyper\n",
        "\n",
        "phyper(q = 6 , m = 10 , n = 30 , k = 15 , lower.tail = TRUE)\n",
        "\n",
        "\n",
        "\n",
        "#Erkek kıyafeti üzerine Instagram sosyal medyasında bir reklam\n",
        "#verilmesi planlanmaktadır. Reklam sadece Şişli semtinde\n",
        "#oturan, cinsiyeti erkek ve 20 ile 25 yaş arasındaki kullanıcalara\n",
        "#gösterilecek şekilde ayarlamıştır. Bu kriterli sağlayan toplam 10000\n",
        "#kişinin instagramdo kayıtlı olduğu bilgisi verilmiştir. 10000 kişi içerisinden\n",
        "#5000 kişinin google arama verilerine göre yeni sezon kıyafetlerine\n",
        "#ihtiyacı olacağı beklenmektedir. Instagram anlaşımsına göre\n",
        "#reklam sadece 10000 kişi içerisinde 3000 kişiye yanlızca bir\n",
        "#kere gösterilecektir. Bu durumda bu reklamın kıyafet ihtiyacı\n",
        "#olan en az 1500 kişiye gösterilme olasılığı nedir?\n",
        "\n",
        "phyper(q = 1500 , m = 5000 , n = 5000 , k = 3000 , lower.tail = FALSE)"
      ],
      "metadata": {
        "colab": {
          "base_uri": "https://localhost:8080/",
          "height": 52
        },
        "id": "8kyG7sgrwT3P",
        "outputId": "2380f671-dae4-4a0e-b7a7-fcec8c33f1ca"
      },
      "execution_count": 64,
      "outputs": [
        {
          "output_type": "display_data",
          "data": {
            "text/html": [
              "0.980110990847034"
            ],
            "text/markdown": "0.980110990847034",
            "text/latex": "0.980110990847034",
            "text/plain": [
              "[1] 0.980111"
            ]
          },
          "metadata": {}
        },
        {
          "output_type": "display_data",
          "data": {
            "text/html": [
              "0.49129518443015"
            ],
            "text/markdown": "0.49129518443015",
            "text/latex": "0.49129518443015",
            "text/plain": [
              "[1] 0.4912952"
            ]
          },
          "metadata": {}
        }
      ]
    },
    {
      "cell_type": "code",
      "source": [
        "?qhyper\n",
        "\n",
        "# Olasılık değerine göre elde edilecek durum sayısı\n",
        "\n",
        "qhyper(p = 0.6 , m = 5000 , n = 5000 , k = 3000 , lower.tail = TRUE)\n",
        "qhyper(p = 0.6 , m = 5000 , n = 5000 , k = 3000 , lower.tail = FALSE)"
      ],
      "metadata": {
        "colab": {
          "base_uri": "https://localhost:8080/",
          "height": 52
        },
        "id": "0ghRCnOQz5YC",
        "outputId": "aa6170ef-72c9-43b8-9e28-b2b062b7eb8e"
      },
      "execution_count": 66,
      "outputs": [
        {
          "output_type": "display_data",
          "data": {
            "text/html": [
              "1506"
            ],
            "text/markdown": "1506",
            "text/latex": "1506",
            "text/plain": [
              "[1] 1506"
            ]
          },
          "metadata": {}
        },
        {
          "output_type": "display_data",
          "data": {
            "text/html": [
              "1494"
            ],
            "text/markdown": "1494",
            "text/latex": "1494",
            "text/plain": [
              "[1] 1494"
            ]
          },
          "metadata": {}
        }
      ]
    },
    {
      "cell_type": "code",
      "source": [
        "?rhyper\n",
        "\n",
        "# Rastgele veri üretimi\n",
        "\n",
        "rhyper(nn = 50 , m = 26 , n = 26 , k = 10)"
      ],
      "metadata": {
        "colab": {
          "base_uri": "https://localhost:8080/",
          "height": 34
        },
        "id": "JjTVAmPF0c7A",
        "outputId": "9e1b3873-05b4-48f3-ac67-1402f407812f"
      },
      "execution_count": 67,
      "outputs": [
        {
          "output_type": "display_data",
          "data": {
            "text/html": [
              "<style>\n",
              ".list-inline {list-style: none; margin:0; padding: 0}\n",
              ".list-inline>li {display: inline-block}\n",
              ".list-inline>li:not(:last-child)::after {content: \"\\00b7\"; padding: 0 .5ex}\n",
              "</style>\n",
              "<ol class=list-inline><li>5</li><li>5</li><li>7</li><li>6</li><li>5</li><li>6</li><li>2</li><li>5</li><li>6</li><li>5</li><li>3</li><li>8</li><li>5</li><li>3</li><li>6</li><li>5</li><li>4</li><li>5</li><li>6</li><li>7</li><li>4</li><li>3</li><li>5</li><li>8</li><li>3</li><li>8</li><li>7</li><li>5</li><li>6</li><li>6</li><li>6</li><li>5</li><li>5</li><li>5</li><li>7</li><li>6</li><li>3</li><li>6</li><li>5</li><li>5</li><li>5</li><li>4</li><li>8</li><li>6</li><li>5</li><li>7</li><li>5</li><li>5</li><li>4</li><li>3</li></ol>\n"
            ],
            "text/markdown": "1. 5\n2. 5\n3. 7\n4. 6\n5. 5\n6. 6\n7. 2\n8. 5\n9. 6\n10. 5\n11. 3\n12. 8\n13. 5\n14. 3\n15. 6\n16. 5\n17. 4\n18. 5\n19. 6\n20. 7\n21. 4\n22. 3\n23. 5\n24. 8\n25. 3\n26. 8\n27. 7\n28. 5\n29. 6\n30. 6\n31. 6\n32. 5\n33. 5\n34. 5\n35. 7\n36. 6\n37. 3\n38. 6\n39. 5\n40. 5\n41. 5\n42. 4\n43. 8\n44. 6\n45. 5\n46. 7\n47. 5\n48. 5\n49. 4\n50. 3\n\n\n",
            "text/latex": "\\begin{enumerate*}\n\\item 5\n\\item 5\n\\item 7\n\\item 6\n\\item 5\n\\item 6\n\\item 2\n\\item 5\n\\item 6\n\\item 5\n\\item 3\n\\item 8\n\\item 5\n\\item 3\n\\item 6\n\\item 5\n\\item 4\n\\item 5\n\\item 6\n\\item 7\n\\item 4\n\\item 3\n\\item 5\n\\item 8\n\\item 3\n\\item 8\n\\item 7\n\\item 5\n\\item 6\n\\item 6\n\\item 6\n\\item 5\n\\item 5\n\\item 5\n\\item 7\n\\item 6\n\\item 3\n\\item 6\n\\item 5\n\\item 5\n\\item 5\n\\item 4\n\\item 8\n\\item 6\n\\item 5\n\\item 7\n\\item 5\n\\item 5\n\\item 4\n\\item 3\n\\end{enumerate*}\n",
            "text/plain": [
              " [1] 5 5 7 6 5 6 2 5 6 5 3 8 5 3 6 5 4 5 6 7 4 3 5 8 3 8 7 5 6 6 6 5 5 5 7 6 3 6\n",
              "[39] 5 5 5 4 8 6 5 7 5 5 4 3"
            ]
          },
          "metadata": {}
        }
      ]
    }
  ]
}